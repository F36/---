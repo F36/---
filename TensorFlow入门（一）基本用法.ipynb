{
 "cells": [
  {
   "cell_type": "markdown",
   "metadata": {},
   "source": [
    "## 例一：平面拟合"
   ]
  },
  {
   "cell_type": "code",
   "execution_count": 1,
   "metadata": {
    "scrolled": true
   },
   "outputs": [],
   "source": [
    "import tensorflow as tf\n",
    "import numpy as np"
   ]
  },
  {
   "cell_type": "code",
   "execution_count": 4,
   "metadata": {
    "collapsed": true
   },
   "outputs": [],
   "source": [
    "#用numpy 生成假数据\n",
    "x_data = np.float32(np.random.rand(2, 100))\n",
    "y_data = np.dot([0.1, 0.2], x_data) + 0.3"
   ]
  },
  {
   "cell_type": "code",
   "execution_count": 6,
   "metadata": {},
   "outputs": [],
   "source": [
    "# 构造线下模型\n",
    "b = tf.Variable(tf.zeros([1]))\n",
    "W = tf.Variable(tf.random_uniform([1, 2], -1.0, 1.0))\n",
    "y = tf.matmul(W, x_data) + b"
   ]
  },
  {
   "cell_type": "code",
   "execution_count": 7,
   "metadata": {
    "collapsed": true
   },
   "outputs": [],
   "source": [
    "# 3.构建模型框架\n",
    "loss = tf.reduce_mean(tf.square(y - y_data))\n",
    "# 优化方法，选择梯度下降\n",
    "optimizer = tf.train.GradientDescentOptimizer(0.5)\n",
    "# 迭代的目标：最小化损失函数\n",
    "train = optimizer.minimize(loss)"
   ]
  },
  {
   "cell_type": "code",
   "execution_count": 8,
   "metadata": {
    "collapsed": true
   },
   "outputs": [],
   "source": [
    "# 利用数据，求解模型参数\n",
    "# 1.初始化变量：tf 的必备步骤，主要声明了变量，就必须初始化才能用\n",
    "init = tf.global_variables_initializer()\n",
    "# 设置tensorflow对GPU的使用按需分配\n",
    "config = tf.ConfigProto()\n",
    "config.gpu_options.allow_growth = False\n",
    "# 2.启动图 (graph)\n",
    "sess = tf.Session(config=config)\n",
    "sess.run(init)"
   ]
  },
  {
   "cell_type": "code",
   "execution_count": 11,
   "metadata": {},
   "outputs": [
    {
     "name": "stdout",
     "output_type": "stream",
     "text": [
      "0 [[ 0.10000011  0.20000008]] [ 0.29999989]\n",
      "20 [[ 0.10000011  0.20000008]] [ 0.29999989]\n",
      "40 [[ 0.10000011  0.20000008]] [ 0.29999989]\n",
      "60 [[ 0.10000011  0.20000008]] [ 0.29999989]\n",
      "80 [[ 0.10000011  0.20000008]] [ 0.29999989]\n",
      "100 [[ 0.10000011  0.20000008]] [ 0.29999989]\n",
      "120 [[ 0.10000011  0.20000008]] [ 0.29999989]\n",
      "140 [[ 0.10000011  0.20000008]] [ 0.29999989]\n",
      "160 [[ 0.10000011  0.20000008]] [ 0.29999989]\n",
      "180 [[ 0.10000011  0.20000008]] [ 0.29999989]\n",
      "200 [[ 0.10000011  0.20000008]] [ 0.29999989]\n"
     ]
    }
   ],
   "source": [
    "# 3.迭代，反复执行上面的最小化损失函数这一操作（train op）,拟合平面\n",
    "for step in range(0, 201):\n",
    "    sess.run(train)\n",
    "    if step % 20 == 0:\n",
    "        print(step, sess.run(W), sess.run(b))"
   ]
  },
  {
   "cell_type": "markdown",
   "metadata": {},
   "source": [
    "## 例二：两个数求和"
   ]
  },
  {
   "cell_type": "code",
   "execution_count": 13,
   "metadata": {
    "collapsed": true
   },
   "outputs": [],
   "source": [
    "input1 = tf.constant(2.0)\n",
    "input2 = tf.constant(3.0)\n",
    "input3 = tf.constant(5.0)\n",
    "\n",
    "intermd = tf.add(input1, input2)\n",
    "mul = tf.multiply(input2, input3)"
   ]
  },
  {
   "cell_type": "code",
   "execution_count": 14,
   "metadata": {},
   "outputs": [
    {
     "name": "stdout",
     "output_type": "stream",
     "text": [
      "[15.0, 5.0]\n",
      "<class 'list'>\n",
      "<class 'numpy.float32'>\n"
     ]
    }
   ],
   "source": [
    "with tf.Session() as sess:\n",
    "    result = sess.run([mul, intermd])  # 一次执行多个op\n",
    "    print(result)\n",
    "    print(type(result))\n",
    "    print(type(result[0]))   "
   ]
  },
  {
   "cell_type": "markdown",
   "metadata": {},
   "source": [
    "## 知识点学习"
   ]
  },
  {
   "cell_type": "markdown",
   "metadata": {},
   "source": [
    "### 1.1 用 tensorflow 实现计数器，主要是设计了在循环中调用加法实现计数"
   ]
  },
  {
   "cell_type": "code",
   "execution_count": 16,
   "metadata": {
    "collapsed": true
   },
   "outputs": [],
   "source": [
    "# 创建变量，初始化为0\n",
    "state = tf.Variable(0, name=\"counter\")\n",
    "# 创建一个op , 其作用是使 state 增加 1\n",
    "one = tf.constant(1) # 直接用1\n",
    "new_value = tf.add(state, 1)\n",
    "update = tf.assign(state, new_value)"
   ]
  },
  {
   "cell_type": "code",
   "execution_count": 19,
   "metadata": {},
   "outputs": [
    {
     "name": "stdout",
     "output_type": "stream",
     "text": [
      "0\n",
      "1\n",
      "2\n",
      "3\n"
     ]
    }
   ],
   "source": [
    "# 启动图之后，运行 update op\n",
    "with tf.Session() as sess:\n",
    "    # 创建好图之后，变量必须经过‘初始化’ \n",
    "    sess.run(tf.global_variables_initializer())\n",
    "    # 查看state的初始化值\n",
    "    print(sess.run(state))\n",
    "    for _ in range(3):\n",
    "        sess.run(update)\n",
    "        print(sess.run(state))"
   ]
  },
  {
   "cell_type": "markdown",
   "metadata": {},
   "source": [
    "### 1.2 用 tf 来实现对一组数求和，再计算平均"
   ]
  },
  {
   "cell_type": "code",
   "execution_count": 23,
   "metadata": {
    "collapsed": true
   },
   "outputs": [],
   "source": [
    "# 知识点：tf.Variable和tf.placeholder的区别\n",
    "# discuss link:https://stackoverflow.com/questions/36693740/whats-the-difference-between-tf-placeholder-and-tf-variable\n",
    "# tf.Variable：主要在于一些可训练变量（trainable variables），比如模型的权重（weights，W）或者偏执值（bias）\n",
    "# (1). 声明时，必须提供初始值；\n",
    "# (2). 名称的真实含义，在于变量，也即在真实训练时，其值是会改变的，自然事先需要指定初始值；\n",
    "# tf.placeholder：用于得到传递进来的真实的训练样本：\n",
    "# (1). 不必指定初始值，可在运行时，通过 Session.run 的函数的 feed_dict 参数指定；\n",
    "# (2). 这也是其命名的原因所在，仅仅作为一种占位符；"
   ]
  },
  {
   "cell_type": "code",
   "execution_count": 20,
   "metadata": {
    "collapsed": true
   },
   "outputs": [],
   "source": [
    "h_sum = tf.Variable(0.0, dtype=tf.float32)\n",
    "# h_vec = tf.random_normal(shape=([10]))\n",
    "h_vec = tf.constant([1.0, 2.0, 3.0, 4.0])\n",
    "# 把 h_vec 的每个元素加到 h_sum 中，然后再除以 10 来计算平均值\n",
    "# 待添加的数\n",
    "h_add = tf.placeholder(tf.float32)\n",
    "# 添加之后的值\n",
    "h_new = tf.add(h_sum, h_add)\n",
    "# 更新 h_new 的 op\n",
    "update = tf.assign(h_sum, h_new)"
   ]
  },
  {
   "cell_type": "code",
   "execution_count": 22,
   "metadata": {},
   "outputs": [
    {
     "name": "stdout",
     "output_type": "stream",
     "text": [
      "s_sum = 0.0\n",
      "vec =  [ 1.  2.  3.  4.]\n",
      "h_sum = 1.0\n",
      "h_sum = 3.0\n",
      "h_sum = 6.0\n",
      "h_sum = 10.0\n",
      "the mean is  2.5\n"
     ]
    }
   ],
   "source": [
    "with tf.Session() as sess:\n",
    "    sess.run(tf.global_variables_initializer())\n",
    "    # 查看原始值\n",
    "    print('s_sum =', sess.run(h_sum))\n",
    "    print(\"vec = \", sess.run(h_vec))\n",
    "\n",
    "    # 循环添加\n",
    "    for _ in range(4):\n",
    "        sess.run(update, feed_dict={h_add: sess.run(h_vec[_])})\n",
    "        print('h_sum =', sess.run(h_sum))\n",
    "    #print 'the mean is ', sess.run(sess.run(h_sum) / 4)  # 这样写 4  是错误的， 必须转为 tf 变量或者常量\n",
    "    print('the mean is ', sess.run(sess.run(h_sum) / tf.constant(4.0)))"
   ]
  },
  {
   "cell_type": "markdown",
   "metadata": {},
   "source": [
    "## 2. InteractiveSession() 的用法"
   ]
  },
  {
   "cell_type": "code",
   "execution_count": 29,
   "metadata": {},
   "outputs": [
    {
     "name": "stdout",
     "output_type": "stream",
     "text": [
      "3.0\n",
      "3.0\n"
     ]
    }
   ],
   "source": [
    "# InteractiveSession() 主要是避免 Session（会话）被一个变量持有\n",
    "a = tf.constant(1.0)\n",
    "b = tf.constant(2.0)\n",
    "c = a + b\n",
    "\n",
    "# 下面的两种情况是等价的\n",
    "with tf.Session():\n",
    "    print(c.eval())\n",
    "\n",
    "sess = tf.InteractiveSession()\n",
    "print(c.eval())\n",
    "sess.close()"
   ]
  },
  {
   "cell_type": "code",
   "execution_count": 33,
   "metadata": {},
   "outputs": [
    {
     "name": "stdout",
     "output_type": "stream",
     "text": [
      "1.2\n"
     ]
    }
   ],
   "source": [
    "a = tf.constant(1.0)\n",
    "b = tf.constant(2.0)\n",
    "c = tf.Variable(3.0)\n",
    "d = a + b\n",
    "\n",
    "sess = tf.InteractiveSession()\n",
    "sess.run(tf.global_variables_initializer())\n",
    "###################\n",
    "# 这样写是错误的\n",
    "# print a.run()  \n",
    "# print d.run()\n",
    "####################\n",
    "\n",
    "# 这样才是正确的\n",
    "# print(a.eval())   \n",
    "# print(d.eval())\n",
    "\n",
    "# run() 方法主要用来\n",
    "x = tf.Variable(1.2)\n",
    "# print x.eval()  # 还没初始化，不能用\n",
    "x.initializer.run()  # x.initializer 就是一个初始化的 op， op才调用run() 方法\n",
    "print(x.eval())\n",
    "\n",
    "sess.close()"
   ]
  },
  {
   "cell_type": "code",
   "execution_count": 34,
   "metadata": {
    "collapsed": true
   },
   "outputs": [],
   "source": [
    "### 2.1 使用 tf.InteractiveSession() 来完成上面 1.2中求和、平均的操作?"
   ]
  },
  {
   "cell_type": "code",
   "execution_count": 35,
   "metadata": {},
   "outputs": [
    {
     "name": "stdout",
     "output_type": "stream",
     "text": [
      "s_sum = 0.0\n",
      "vec =  [ 1.  2.  3.  4.]\n",
      "vec =  1.0\n",
      "h_sum = 1.0\n",
      "h_sum = 3.0\n",
      "h_sum = 6.0\n",
      "h_sum = 10.0\n"
     ]
    }
   ],
   "source": [
    "h_sum = tf.Variable(0.0, dtype=tf.float32)\n",
    "# h_vec = tf.random_normal(shape=([10]))\n",
    "h_vec = tf.constant([1.0, 2.0, 3.0, 4.0])\n",
    "# 把 h_vec 的每个元素加到 h_sum 中，然后再除以 10 来计算平均值\n",
    "# 待添加的数\n",
    "h_add = tf.placeholder(tf.float32)\n",
    "# 添加之后的值\n",
    "h_new = tf.add(h_sum, h_add)\n",
    "# 更新 h_new 的 op\n",
    "update = tf.assign(h_sum, h_new)\n",
    "\n",
    "sess = tf.InteractiveSession()\n",
    "sess.run(tf.global_variables_initializer())\n",
    "print('s_sum =', h_sum.eval())\n",
    "print(\"vec = \", h_vec.eval())\n",
    "print(\"vec = \", h_vec[0].eval())\n",
    "\n",
    "\n",
    "for _ in range(4):\n",
    "    update.eval(feed_dict={h_add: h_vec[_].eval()})\n",
    "    print('h_sum =', h_sum.eval())\n",
    "sess.close()"
   ]
  },
  {
   "cell_type": "markdown",
   "metadata": {},
   "source": [
    "## 3.使用feed来对变量赋值"
   ]
  },
  {
   "cell_type": "code",
   "execution_count": 36,
   "metadata": {
    "collapsed": true
   },
   "outputs": [],
   "source": [
    "# 这些需要用到feed来赋值的操作可以通过tf.placeholder()说明，以创建占位符。 \n",
    "\n",
    "# 下面的例子中可以看出 session.run([output], …) 和 session.run(output, …) 的区别。前者输出了 output 的类型等详细信息，后者只输出简单结果。"
   ]
  },
  {
   "cell_type": "markdown",
   "metadata": {},
   "source": [
    "### 3.1 session.run([output], …)"
   ]
  },
  {
   "cell_type": "code",
   "execution_count": 38,
   "metadata": {},
   "outputs": [
    {
     "name": "stdout",
     "output_type": "stream",
     "text": [
      "[array([ 14.], dtype=float32)]\n"
     ]
    }
   ],
   "source": [
    "input1 = tf.placeholder(tf.float32)\n",
    "input2 = tf.placeholder(tf.float32)\n",
    "output = tf.multiply(input1, input2)\n",
    "\n",
    "with tf.Session() as sess:\n",
    "    print(sess.run([output], feed_dict={input1:[7.0], input2:[2.0]}))"
   ]
  },
  {
   "cell_type": "code",
   "execution_count": 41,
   "metadata": {},
   "outputs": [
    {
     "name": "stdout",
     "output_type": "stream",
     "text": [
      "[array([ 14.,   3.], dtype=float32)]\n"
     ]
    }
   ],
   "source": [
    "with tf.Session() as sess:\n",
    "    print(sess.run([output], feed_dict={input1:[7.0, 3.0], input2:[2.0, 1.0]}))"
   ]
  },
  {
   "cell_type": "markdown",
   "metadata": {},
   "source": [
    "### 3.2 session.run(output, …)"
   ]
  },
  {
   "cell_type": "code",
   "execution_count": 39,
   "metadata": {},
   "outputs": [
    {
     "name": "stdout",
     "output_type": "stream",
     "text": [
      "<class 'numpy.ndarray'>\n",
      "[ 14.]\n"
     ]
    }
   ],
   "source": [
    "with tf.Session() as sess:\n",
    "    result = sess.run(output, feed_dict={input1:[7.0], input2:[2.0]})\n",
    "    print(type(result))\n",
    "    print(result)"
   ]
  },
  {
   "cell_type": "code",
   "execution_count": 42,
   "metadata": {},
   "outputs": [
    {
     "name": "stdout",
     "output_type": "stream",
     "text": [
      "[ 14.   3.]\n"
     ]
    }
   ],
   "source": [
    "with tf.Session() as sess:\n",
    "    print(sess.run(output, feed_dict={input1:[7.0, 3.0], input2:[2.0, 1.0]}))"
   ]
  },
  {
   "cell_type": "code",
   "execution_count": null,
   "metadata": {
    "collapsed": true
   },
   "outputs": [],
   "source": []
  }
 ],
 "metadata": {
  "kernelspec": {
   "display_name": "Python 3",
   "language": "python",
   "name": "python3"
  },
  "language_info": {
   "codemirror_mode": {
    "name": "ipython",
    "version": 3
   },
   "file_extension": ".py",
   "mimetype": "text/x-python",
   "name": "python",
   "nbconvert_exporter": "python",
   "pygments_lexer": "ipython3",
   "version": "3.5.4"
  }
 },
 "nbformat": 4,
 "nbformat_minor": 2
}
