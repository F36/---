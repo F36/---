{
 "cells": [
  {
   "cell_type": "code",
   "execution_count": 2,
   "metadata": {
    "collapsed": true
   },
   "outputs": [],
   "source": [
    "import numpy\n",
    "from PIL import Image"
   ]
  },
  {
   "cell_type": "code",
   "execution_count": 3,
   "metadata": {
    "collapsed": true
   },
   "outputs": [],
   "source": [
    "import sys\n",
    "import os.path"
   ]
  },
  {
   "cell_type": "code",
   "execution_count": 4,
   "metadata": {
    "collapsed": false
   },
   "outputs": [],
   "source": [
    "import sys, os\n",
    "sys.path.append(\"../..\")\n",
    "import numpy as np\n",
    "try:\n",
    "    from PIL import Image\n",
    "except ImportError:\n",
    "    import Image"
   ]
  },
  {
   "cell_type": "code",
   "execution_count": 5,
   "metadata": {
    "collapsed": true
   },
   "outputs": [],
   "source": [
    "image = Image.open('orl_faces/s1/1.pgm')"
   ]
  },
  {
   "cell_type": "code",
   "execution_count": 6,
   "metadata": {
    "collapsed": false,
    "scrolled": true
   },
   "outputs": [
    {
     "data": {
      "image/png": "[encoded data removed]",
      "text/plain": [
       "<PIL.PpmImagePlugin.PpmImageFile image mode=L size=92x112 at 0x5559CC0>"
      ]
     },
     "execution_count": 6,
     "metadata": {},
     "output_type": "execute_result"
    }
   ],
   "source": [
    "image"
   ]
  },
  {
   "cell_type": "code",
   "execution_count": 7,
   "metadata": {
    "collapsed": false
   },
   "outputs": [],
   "source": [
    "img_ndarray = numpy.asarray(image, dtype='float64')/256"
   ]
  },
  {
   "cell_type": "code",
   "execution_count": 8,
   "metadata": {
    "collapsed": false
   },
   "outputs": [
    {
     "data": {
      "text/plain": [
       "(112, 92)"
      ]
     },
     "execution_count": 8,
     "metadata": {},
     "output_type": "execute_result"
    }
   ],
   "source": [
    "img_ndarray.shape"
   ]
  },
  {
   "cell_type": "code",
   "execution_count": 9,
   "metadata": {
    "collapsed": false
   },
   "outputs": [
    {
     "data": {
      "text/plain": [
       "2"
      ]
     },
     "execution_count": 9,
     "metadata": {},
     "output_type": "execute_result"
    }
   ],
   "source": [
    "img_ndarray.ndim"
   ]
  },
  {
   "cell_type": "code",
   "execution_count": 10,
   "metadata": {
    "collapsed": false
   },
   "outputs": [],
   "source": [
    "def read_images(path, sz=None):\n",
    "    \"\"\"Reads the images in a given folder, resizes images on the fly if size is given.\n",
    "    Args:\n",
    "        path: Path to a folder with subfolders representing the subjects (persons).\n",
    "        sz: A tuple with the size Resizes \n",
    "    Returns:\n",
    "        A list [X,y]\n",
    "            X: The images, which is a Python list of numpy arrays.\n",
    "            y: The corresponding labels (the unique number of the subject, person) in a Python list.\n",
    "    \"\"\"\n",
    "    c = 0\n",
    "    X,y = [], []\n",
    "    for dirname, dirnames, filenames in os.walk(path):\n",
    "        for subdirname in dirnames:\n",
    "            subject_path = os.path.join(dirname, subdirname)\n",
    "            for filename in os.listdir(subject_path):\n",
    "                    im = Image.open(os.path.join(subject_path, filename))\n",
    "                    im = im.convert(\"L\")\n",
    "                    # resize to given size (if given)\n",
    "                    if (sz is not None):\n",
    "                        im = im.resize(sz, Image.ANTIALIAS)\n",
    "                    X.append(np.asarray(im, dtype=np.uint8))\n",
    "                    y.append(c)\n",
    "            c = c+1\n",
    "    return [X,y]"
   ]
  },
  {
   "cell_type": "code",
   "execution_count": 11,
   "metadata": {
    "collapsed": true
   },
   "outputs": [],
   "source": [
    "def asColumnMatrix(X):\n",
    "    \"\"\"\n",
    "    Creates a column-matrix from multi-dimensional data items in list l.\n",
    "    \n",
    "    X [list] List with multi-dimensional data.\n",
    "    \"\"\"\n",
    "    if len(X) == 0:\n",
    "        return np.array([])\n",
    "    total = 1\n",
    "    for i in range(0, np.ndim(X[0])):\n",
    "        total = total * X[0].shape[i]\n",
    "    mat = np.empty([total, 0], dtype=X[0].dtype)\n",
    "    for col in X:\n",
    "        mat = np.append(mat, col.reshape(-1,1), axis=1) # same as hstack\n",
    "    return np.asmatrix(mat)"
   ]
  },
  {
   "cell_type": "code",
   "execution_count": 12,
   "metadata": {
    "collapsed": false
   },
   "outputs": [],
   "source": [
    "X ,Y = read_images('orl_faces')"
   ]
  },
  {
   "cell_type": "code",
   "execution_count": 13,
   "metadata": {
    "collapsed": true
   },
   "outputs": [],
   "source": [
    "class AbstractFeature(object):\n",
    "\n",
    "    def compute(self,X,y):\n",
    "        raise NotImplementedError(\"Every AbstractFeature must implement the compute method.\")\n",
    "    \n",
    "    def extract(self,X):\n",
    "        raise NotImplementedError(\"Every AbstractFeature must implement the extract method.\")\n",
    "        \n",
    "    def save(self):\n",
    "        raise NotImplementedError(\"Not implemented yet (TODO).\")\n",
    "    \n",
    "    def load(self):\n",
    "        raise NotImplementedError(\"Not implemented yet (TODO).\")\n",
    "        \n",
    "    def __repr__(self):\n",
    "        return \"AbstractFeature\"\n",
    "\n",
    "class Identity(AbstractFeature):\n",
    "    \"\"\"\n",
    "    Simplest AbstractFeature you could imagine. It only forwards the data and does not operate on it, \n",
    "    probably useful for learning a Support Vector Machine on raw data for example!\n",
    "    \"\"\"\n",
    "    def __init__(self):\n",
    "        AbstractFeature.__init__(self)\n",
    "        \n",
    "    def compute(self,X,y):\n",
    "        return X\n",
    "    \n",
    "    def extract(self,X):\n",
    "        return X\n",
    "    \n",
    "    def __repr__(self):\n",
    "        return \"Identity\""
   ]
  },
  {
   "cell_type": "code",
   "execution_count": 65,
   "metadata": {
    "collapsed": false
   },
   "outputs": [],
   "source": [
    "XC = asColumnMatrix(X)"
   ]
  },
  {
   "cell_type": "code",
   "execution_count": 70,
   "metadata": {
    "collapsed": false
   },
   "outputs": [
    {
     "data": {
      "text/plain": [
       "matrix([[ 48,  34,  60, ..., 112, 111, 110],\n",
       "        [ 49,  34,  60, ..., 109, 114, 112],\n",
       "        [ 45,  33,  62, ..., 116, 112, 113],\n",
       "        ..., \n",
       "        [ 47,  37,  32, ...,  93,  88,  92],\n",
       "        [ 46,  40,  34, ...,  88,  86,  87],\n",
       "        [ 46,  33,  34, ...,  92,  92,  90]], dtype=uint8)"
      ]
     },
     "execution_count": 70,
     "metadata": {},
     "output_type": "execute_result"
    }
   ],
   "source": [
    "XC"
   ]
  },
  {
   "cell_type": "code",
   "execution_count": 14,
   "metadata": {
    "collapsed": true
   },
   "outputs": [],
   "source": [
    "class PCA(AbstractFeature):\n",
    "    def __init__(self, num_components=0):\n",
    "        AbstractFeature.__init__(self)\n",
    "        self._num_components = num_components\n",
    "        \n",
    "    def compute(self,X,y):\n",
    "        # build the column matrix\n",
    "        XC = asColumnMatrix(X)\n",
    "        y = np.asarray(y)\n",
    "        # set a valid number of components\n",
    "        if self._num_components <= 0 or (self._num_components > XC.shape[1]-1):\n",
    "            self._num_components = XC.shape[1]-1\n",
    "        # center dataset\n",
    "        self._mean = XC.mean(axis=1).reshape(-1,1)\n",
    "        XC = XC - self._mean\n",
    "        # perform an economy size decomposition (may still allocate too much memory for computation)\n",
    "        self._eigenvectors, self._eigenvalues, variances = np.linalg.svd(XC, full_matrices=False)\n",
    "        # sort eigenvectors by eigenvalues in descending order\n",
    "        idx = np.argsort(-self._eigenvalues)\n",
    "        self._eigenvalues, self._eigenvectors = self._eigenvalues[idx], self._eigenvectors[:,idx]\n",
    "        # use only num_components\n",
    "        self._eigenvectors = self._eigenvectors[0:,0:self._num_components].copy()\n",
    "        self._eigenvalues = self._eigenvalues[0:self._num_components].copy()\n",
    "        # finally turn singular values into eigenvalues \n",
    "        self._eigenvalues = np.power(self._eigenvalues,2) / XC.shape[1]\n",
    "        # get the features from the given data\n",
    "        features = []\n",
    "        for x in X:\n",
    "            xp = self.project(x.reshape(-1,1))\n",
    "            features.append(xp)\n",
    "        return features\n",
    "    \n",
    "    def extract(self,X):\n",
    "        X = np.asarray(X).reshape(-1,1)\n",
    "        return self.project(X)\n",
    "        \n",
    "    def project(self, X):\n",
    "        X = X - self._mean\n",
    "        return np.dot(self._eigenvectors.T, X)\n",
    "\n",
    "    def reconstruct(self, X):\n",
    "        X = np.dot(self._eigenvectors, X)\n",
    "        return X + self._mean\n",
    "\n",
    "    @property\n",
    "    def num_components(self):\n",
    "        return self._num_components\n",
    "\n",
    "    @property\n",
    "    def eigenvalues(self):\n",
    "        return self._eigenvalues\n",
    "        \n",
    "    @property\n",
    "    def eigenvectors(self):\n",
    "        return self._eigenvectors\n",
    "\n",
    "    @property\n",
    "    def mean(self):\n",
    "        return self._mean\n",
    "        \n",
    "    def __repr__(self):\n",
    "        return \"PCA (num_components=%d)\" % (self._num_components)"
   ]
  },
  {
   "cell_type": "code",
   "execution_count": 15,
   "metadata": {
    "collapsed": true
   },
   "outputs": [],
   "source": [
    "class LDA(AbstractFeature):\n",
    "\n",
    "    def __init__(self, num_components=0):\n",
    "        AbstractFeature.__init__(self)\n",
    "        self._num_components = num_components\n",
    "\n",
    "    def compute(self, X, y):\n",
    "        # build the column matrix\n",
    "        XC = asColumnMatrix(X)\n",
    "        y = np.asarray(y)\n",
    "        # calculate dimensions\n",
    "        d = XC.shape[0]\n",
    "        c = len(np.unique(y))        \n",
    "        # set a valid number of components\n",
    "        if self._num_components <= 0:\n",
    "            self._num_components = c-1\n",
    "        elif self._num_components > (c-1):\n",
    "            self._num_components = c-1\n",
    "        # calculate total mean\n",
    "        meanTotal = XC.mean(axis=1).reshape(-1,1)\n",
    "        # calculate the within and between scatter matrices\n",
    "        Sw = np.zeros((d, d), dtype=np.float32)\n",
    "        Sb = np.zeros((d, d), dtype=np.float32)\n",
    "        for i in range(0,c):\n",
    "            Xi = XC[:,np.where(y==i)[0]]\n",
    "            meanClass = np.mean(Xi, axis = 1).reshape(-1,1)\n",
    "            Sw = Sw + np.dot((Xi-meanClass), (Xi-meanClass).T)\n",
    "            Sb = Sb + Xi.shape[1] * np.dot((meanClass - meanTotal), (meanClass - meanTotal).T)\n",
    "        # solve eigenvalue problem for a general matrix\n",
    "        self._eigenvalues, self._eigenvectors = np.linalg.eig(np.linalg.inv(Sw)*Sb)\n",
    "        # sort eigenvectors by their eigenvalue in descending order\n",
    "        idx = np.argsort(-self._eigenvalues.real)\n",
    "        self._eigenvalues, self._eigenvectors = self._eigenvalues[idx], self._eigenvectors[:,idx]\n",
    "        # only store (c-1) non-zero eigenvalues\n",
    "        self._eigenvalues = np.array(self._eigenvalues[0:self._num_components].real, dtype=np.float32, copy=True)\n",
    "        self._eigenvectors = np.matrix(self._eigenvectors[0:,0:self._num_components].real, dtype=np.float32, copy=True)\n",
    "        # get the features from the given data\n",
    "        features = []\n",
    "        for x in X:\n",
    "            xp = self.project(x.reshape(-1,1))\n",
    "            features.append(xp)\n",
    "        return features\n",
    "        \n",
    "    def project(self, X):\n",
    "        return np.dot(self._eigenvectors.T, X)\n",
    "\n",
    "    def reconstruct(self, X):\n",
    "        return np.dot(self._eigenvectors, X)\n",
    "\n",
    "    @property\n",
    "    def num_components(self):\n",
    "        return self._num_components\n",
    "\n",
    "    @property\n",
    "    def eigenvectors(self):\n",
    "        return self._eigenvectors\n",
    "    \n",
    "    @property\n",
    "    def eigenvalues(self):\n",
    "        return self._eigenvalues\n",
    "    \n",
    "    def __repr__(self):\n",
    "        return \"LDA (num_components=%d)\" % (self._num_components)"
   ]
  },
  {
   "cell_type": "code",
   "execution_count": 16,
   "metadata": {
    "collapsed": true
   },
   "outputs": [],
   "source": [
    "class Fisherfaces(AbstractFeature):\n",
    "\n",
    "    def __init__(self, num_components=0):\n",
    "        AbstractFeature.__init__(self)\n",
    "        self._num_components = num_components\n",
    "    \n",
    "    def compute(self, X, y):\n",
    "        # turn into numpy representation\n",
    "        Xc = asColumnMatrix(X)\n",
    "        y = np.asarray(y)\n",
    "        # gather some statistics about the dataset\n",
    "        n = len(y)\n",
    "        c = len(np.unique(y))\n",
    "        # define features to be extracted\n",
    "        pca = PCA(num_components = (n-c))\n",
    "        lda = LDA(num_components = self._num_components)\n",
    "        # fisherfaces are a chained feature of PCA followed by LDA\n",
    "        model = ChainOperator(pca,lda)\n",
    "        # computing the chained model then calculates both decompositions\n",
    "        model.compute(X,y)\n",
    "        # store eigenvalues and number of components used\n",
    "        self._eigenvalues = lda.eigenvalues\n",
    "        self._num_components = lda.num_components\n",
    "        # compute the new eigenspace as pca.eigenvectors*lda.eigenvectors\n",
    "        self._eigenvectors = np.dot(pca.eigenvectors,lda.eigenvectors)\n",
    "        # finally compute the features (these are the Fisherfaces)\n",
    "        features = []\n",
    "        for x in X:\n",
    "            xp = self.project(x.reshape(-1,1))\n",
    "            features.append(xp)\n",
    "        return features\n",
    "\n",
    "    def extract(self,X):\n",
    "        X = np.asarray(X).reshape(-1,1)\n",
    "        return self.project(X)\n",
    "\n",
    "    def project(self, X):\n",
    "        return np.dot(self._eigenvectors.T, X)\n",
    "    \n",
    "    def reconstruct(self, X):\n",
    "        return np.dot(self._eigenvectors, X)\n",
    "\n",
    "    @property\n",
    "    def num_components(self):\n",
    "        return self._num_components\n",
    "        \n",
    "    @property\n",
    "    def eigenvalues(self):\n",
    "        return self._eigenvalues\n",
    "    \n",
    "    @property\n",
    "    def eigenvectors(self):\n",
    "        return self._eigenvectors\n",
    "\n",
    "    def __repr__(self):\n",
    "        return \"Fisherfaces (num_components=%s)\" % (self.num_components)"
   ]
  },
  {
   "cell_type": "code",
   "execution_count": 17,
   "metadata": {
    "collapsed": true
   },
   "outputs": [],
   "source": [
    "feature = Fisherfaces()"
   ]
  },
  {
   "cell_type": "code",
   "execution_count": 18,
   "metadata": {
    "collapsed": false,
    "scrolled": false
   },
   "outputs": [
    {
     "data": {
      "text/plain": [
       "Fisherfaces (num_components=0)"
      ]
     },
     "execution_count": 18,
     "metadata": {},
     "output_type": "execute_result"
    }
   ],
   "source": [
    "feature"
   ]
  },
  {
   "cell_type": "code",
   "execution_count": 19,
   "metadata": {
    "collapsed": true
   },
   "outputs": [],
   "source": [
    "class AbstractClassifier(object):\n",
    "\n",
    "    def compute(self,X,y):\n",
    "        raise NotImplementedError(\"Every AbstractClassifier must implement the compute method.\")\n",
    "    \n",
    "    def predict(self,X):\n",
    "        raise NotImplementedError(\"Every AbstractClassifier must implement the predict method.\")\n",
    "\n",
    "    def update(self,X,y):\n",
    "        raise NotImplementedError(\"This Classifier is cannot be updated.\")\n"
   ]
  },
  {
   "cell_type": "code",
   "execution_count": 20,
   "metadata": {
    "collapsed": true
   },
   "outputs": [],
   "source": [
    "class AbstractDistance(object):\n",
    "    def __init__(self, name):\n",
    "        self._name = name\n",
    "        \n",
    "    def __call__(self,p,q):\n",
    "        raise NotImplementedError(\"Every AbstractDistance must implement the __call__ method.\")\n",
    "        \n",
    "    @property\n",
    "    def name(self):\n",
    "        return self._name\n",
    "\n",
    "    def __repr__(self):\n",
    "        return self._name"
   ]
  },
  {
   "cell_type": "code",
   "execution_count": 21,
   "metadata": {
    "collapsed": true
   },
   "outputs": [],
   "source": [
    "class EuclideanDistance(AbstractDistance):\n",
    "    def __init__(self):\n",
    "        AbstractDistance.__init__(self,\"EuclideanDistance\")\n",
    "\n",
    "    def __call__(self, p, q):\n",
    "        p = np.asarray(p).flatten()\n",
    "        q = np.asarray(q).flatten()\n",
    "        return np.sqrt(np.sum(np.power((p-q),2)))"
   ]
  },
  {
   "cell_type": "code",
   "execution_count": 22,
   "metadata": {
    "collapsed": false
   },
   "outputs": [],
   "source": [
    "class NearestNeighbor(AbstractClassifier):\n",
    "    \"\"\"\n",
    "    Implements a k-Nearest Neighbor Model with a generic distance metric.\n",
    "    \"\"\"\n",
    "    def __init__(self, dist_metric=EuclideanDistance(), k=1):\n",
    "        AbstractClassifier.__init__(self)\n",
    "        self.k = k\n",
    "        self.dist_metric = dist_metric\n",
    "        self.X = []\n",
    "        self.y = np.array([], dtype=np.int32)\n",
    "\n",
    "    def update(self, X, y):\n",
    "        \"\"\"\n",
    "        Updates the classifier.\n",
    "        \"\"\"\n",
    "        self.X.append(X)\n",
    "        self.y = np.append(self.y, y)\n",
    "\n",
    "    def compute(self, X, y):\n",
    "        self.X = X\n",
    "        self.y = np.asarray(y)\n",
    "    \n",
    "    def predict(self, q):\n",
    "        \"\"\"\n",
    "        Predicts the k-nearest neighbor for a given query in q. \n",
    "        \n",
    "        Args:\n",
    "        \n",
    "            q: The given query sample, which is an array.\n",
    "            \n",
    "        Returns:\n",
    "        \n",
    "            A list with the classifier output. In this framework it is\n",
    "            assumed, that the predicted class is always returned as first\n",
    "            element. Moreover, this class returns the distances for the \n",
    "            first k-Nearest Neighbors. \n",
    "            \n",
    "            Example:\n",
    "            \n",
    "                [ 0, \n",
    "                   { 'labels'    : [ 0,      0,      1      ],\n",
    "                     'distances' : [ 10.132, 10.341, 13.314 ]\n",
    "                   }\n",
    "                ]\n",
    "            \n",
    "            So if you want to perform a thresholding operation, you could \n",
    "            pick the distances in the second array of the generic classifier\n",
    "            output.    \n",
    "                    \n",
    "        \"\"\"\n",
    "        distances = []\n",
    "        for xi in self.X:\n",
    "            xi = xi.reshape(-1,1)\n",
    "            d = self.dist_metric(xi, q)\n",
    "            distances.append(d)\n",
    "        if len(distances) > len(self.y):\n",
    "            raise Exception(\"More distances than classes. Is your distance metric correct?\")\n",
    "        distances = np.asarray(distances)\n",
    "        # Get the indices in an ascending sort order:\n",
    "        idx = np.argsort(distances)\n",
    "        # Sort the labels and distances accordingly:\n",
    "        sorted_y = self.y[idx]\n",
    "        sorted_distances = distances[idx]\n",
    "        # Take only the k first items:\n",
    "        sorted_y = sorted_y[0:self.k]\n",
    "        sorted_distances = sorted_distances[0:self.k]\n",
    "        # Make a histogram of them:\n",
    "        hist = dict((key,val) for key, val in enumerate(np.bincount(sorted_y)) if val)\n",
    "        # And get the bin with the maximum frequency:\n",
    "        predicted_label = max(hist.items(), key=op.itemgetter(1))[0]\n",
    "        # A classifier should output a list with the label as first item and\n",
    "        # generic data behind. The k-nearest neighbor classifier outputs the \n",
    "        # distance of the k first items. So imagine you have a 1-NN and you\n",
    "        # want to perform a threshold against it, you should take the first\n",
    "        # item \n",
    "        return [predicted_label, { 'labels' : sorted_y, 'distances' : sorted_distances }]\n",
    "        \n",
    "    def __repr__(self):\n",
    "        return \"NearestNeighbor (k=%s, dist_metric=%s)\" % (self.k, repr(self.dist_metric))"
   ]
  },
  {
   "cell_type": "code",
   "execution_count": 23,
   "metadata": {
    "collapsed": true
   },
   "outputs": [],
   "source": [
    "class PredictableModel(object):\n",
    "    def __init__(self, feature, classifier):\n",
    "        if not isinstance(feature, AbstractFeature):\n",
    "            raise TypeError(\"feature must be of type AbstractFeature!\")\n",
    "        if not isinstance(classifier, AbstractClassifier):\n",
    "            raise TypeError(\"classifier must be of type AbstractClassifier!\")\n",
    "        \n",
    "        self.feature = feature\n",
    "        self.classifier = classifier\n",
    "    \n",
    "    def compute(self, X, y):\n",
    "        features = self.feature.compute(X,y)\n",
    "        self.classifier.compute(features,y)\n",
    "\n",
    "    def predict(self, X):\n",
    "        q = self.feature.extract(X)\n",
    "        return self.classifier.predict(q)\n",
    "        \n",
    "    def __repr__(self):\n",
    "        feature_repr = repr(self.feature)\n",
    "        classifier_repr = repr(self.classifier)\n",
    "        return \"PredictableModel (feature=%s, classifier=%s)\" % (feature_repr, classifier_repr)"
   ]
  },
  {
   "cell_type": "code",
   "execution_count": 24,
   "metadata": {
    "collapsed": true
   },
   "outputs": [],
   "source": [
    "def asColumnMatrix(X):\n",
    "    \"\"\"\n",
    "    Creates a column-matrix from multi-dimensional data items in list l.\n",
    "    \n",
    "    X [list] List with multi-dimensional data.\n",
    "    \"\"\"\n",
    "    if len(X) == 0:\n",
    "        return np.array([])\n",
    "    total = 1\n",
    "    for i in range(0, np.ndim(X[0])):\n",
    "        total = total * X[0].shape[i]\n",
    "    mat = np.empty([total, 0], dtype=X[0].dtype)\n",
    "    for col in X:\n",
    "        mat = np.append(mat, col.reshape(-1,1), axis=1) # same as hstack\n",
    "    return np.asmatrix(mat)"
   ]
  },
  {
   "cell_type": "code",
   "execution_count": 25,
   "metadata": {
    "collapsed": true
   },
   "outputs": [],
   "source": [
    "class FeatureOperator(AbstractFeature):\n",
    "    \"\"\"\n",
    "    A FeatureOperator operates on two feature models.\n",
    "    \n",
    "    Args:\n",
    "        model1 [AbstractFeature]\n",
    "        model2 [AbstractFeature]\n",
    "    \"\"\"\n",
    "    def __init__(self,model1,model2):\n",
    "        if (not isinstance(model1,AbstractFeature)) or (not isinstance(model2,AbstractFeature)):\n",
    "            raise Exception(\"A FeatureOperator only works on classes implementing an AbstractFeature!\")\n",
    "        self.model1 = model1\n",
    "        self.model2 = model2\n",
    "    \n",
    "    def __repr__(self):\n",
    "        return \"FeatureOperator(\" + repr(self.model1) + \",\" + repr(self.model2) + \")\""
   ]
  },
  {
   "cell_type": "code",
   "execution_count": 26,
   "metadata": {
    "collapsed": false
   },
   "outputs": [],
   "source": [
    "class ChainOperator(FeatureOperator):\n",
    "    \"\"\"\n",
    "    The ChainOperator chains two feature extraction modules:\n",
    "        model2.compute(model1.compute(X,y),y)\n",
    "    Where X can be generic input data.\n",
    "    \n",
    "    Args:\n",
    "        model1 [AbstractFeature]\n",
    "        model2 [AbstractFeature]\n",
    "    \"\"\"\n",
    "    def __init__(self,model1,model2):\n",
    "        FeatureOperator.__init__(self,model1,model2)\n",
    "        \n",
    "    def compute(self,X,y):\n",
    "        X = self.model1.compute(X,y)\n",
    "        return self.model2.compute(X,y)\n",
    "        \n",
    "    def extract(self,X):\n",
    "        X = self.model1.extract(X)\n",
    "        return self.model2.extract(X)\n",
    "    \n",
    "    def __repr__(self):\n",
    "        return \"ChainOperator(\" + repr(self.model1) + \",\" + repr(self.model2) + \")\""
   ]
  },
  {
   "cell_type": "code",
   "execution_count": 27,
   "metadata": {
    "collapsed": true
   },
   "outputs": [],
   "source": [
    "import numpy as np\n",
    "import math as math\n",
    "import random as random\n",
    "import logging\n",
    "import operator as op"
   ]
  },
  {
   "cell_type": "code",
   "execution_count": 28,
   "metadata": {
    "collapsed": false
   },
   "outputs": [],
   "source": [
    "class ValidationStrategy(object):\n",
    "    \"\"\" Represents a generic Validation kernel for all Validation strategies.\n",
    "    \"\"\"\n",
    "    def __init__(self, model):\n",
    "        \"\"\"    \n",
    "        Initialize validation with empty results.\n",
    "        \n",
    "        Args:\n",
    "        \n",
    "            model [PredictableModel] The model, which is going to be validated.\n",
    "        \"\"\"\n",
    "        if not isinstance(model,PredictableModel):\n",
    "            raise TypeError(\"Validation can only validate the type PredictableModel.\")\n",
    "        self.model = model\n",
    "        self.validation_results = []\n",
    "    \n",
    "    def add(self, validation_result):\n",
    "        self.validation_results.append(validation_result)\n",
    "        \n",
    "    def validate(self, X, y, description):\n",
    "        \"\"\"\n",
    "        \n",
    "        Args:\n",
    "            X [list] Input Images\n",
    "            y [y] Class Labels\n",
    "            description [string] experiment description\n",
    "        \n",
    "        \"\"\"\n",
    "        raise NotImplementedError(\"Every Validation module must implement the validate method!\")\n",
    "        \n",
    "    \n",
    "    def print_results(self):\n",
    "        print(self.model)\n",
    "        for validation_result in self.validation_results:\n",
    "            print(validation_result)\n",
    "\n",
    "    def __repr__(self):\n",
    "        return \"Validation Kernel (model=%s)\" % (self.model)"
   ]
  },
  {
   "cell_type": "code",
   "execution_count": 29,
   "metadata": {
    "collapsed": false
   },
   "outputs": [],
   "source": [
    "class KFoldCrossValidation(ValidationStrategy):\n",
    "    \"\"\" \n",
    "    \n",
    "    Divides the Data into 10 equally spaced and non-overlapping folds for training and testing.\n",
    "    \n",
    "    Here is a 3-fold cross validation example for 9 observations and 3 classes, so each observation is given by its index [c_i][o_i]:\n",
    "                \n",
    "        o0 o1 o2        o0 o1 o2        o0 o1 o2  \n",
    "    c0 | A  B  B |  c0 | B  A  B |  c0 | B  B  A |\n",
    "    c1 | A  B  B |  c1 | B  A  B |  c1 | B  B  A |\n",
    "    c2 | A  B  B |  c2 | B  A  B |  c2 | B  B  A |\n",
    "    \n",
    "    Please note: If there are less than k observations in a class, k is set to the minimum of observations available through all classes.\n",
    "    \"\"\"\n",
    "    def __init__(self, model, k=10):\n",
    "        \"\"\"\n",
    "        Args:\n",
    "            k [int] number of folds in this k-fold cross-validation (default 10)\n",
    "        \"\"\"\n",
    "        super(KFoldCrossValidation, self).__init__(model=model)\n",
    "        self.k = k\n",
    "        self.logger = logging.getLogger(\"facerec.validation.KFoldCrossValidation\")\n",
    "\n",
    "    def validate(self, X, y, description=\"ExperimentName\"):\n",
    "        \"\"\" Performs a k-fold cross validation\n",
    "        \n",
    "        Args:\n",
    "            X [dim x num_data] input data to validate on\n",
    "            y [1 x num_data] classes\n",
    "        \"\"\"\n",
    "        X,y = shuffle(X,y)\n",
    "        c = len(np.unique(y))\n",
    "        foldIndices = []\n",
    "        n = np.iinfo(np.int).max\n",
    "        for i in range(0,c):\n",
    "            idx = np.where(y==i)[0]\n",
    "            n = min(n, idx.shape[0])\n",
    "            foldIndices.append(idx.tolist()); \n",
    "\n",
    "        # I assume all folds to be of equal length, so the minimum\n",
    "        # number of samples in a class is responsible for the number\n",
    "        # of folds. This is probably not desired. Please adjust for\n",
    "        # your use case.\n",
    "        if n < self.k:\n",
    "            self.k = n\n",
    "\n",
    "        foldSize = int(math.floor(n/self.k))\n",
    "        \n",
    "        true_positives, false_positives, true_negatives, false_negatives = (0,0,0,0)\n",
    "        for i in range(0,self.k):\n",
    "        \n",
    "            self.logger.info(\"Processing fold %d/%d.\" % (i+1, self.k))\n",
    "                \n",
    "            # calculate indices\n",
    "            l = int(i*foldSize)\n",
    "            h = int((i+1)*foldSize)\n",
    "            testIdx = slice_2d(foldIndices, cols=range(l,h), rows=range(0, c))\n",
    "            trainIdx = slice_2d(foldIndices,cols=range(0,l), rows=range(0,c))\n",
    "            trainIdx.extend(slice_2d(foldIndices,cols=range(h,n),rows=range(0,c)))\n",
    "            \n",
    "            # build training data subset\n",
    "            Xtrain = [X[t] for t in trainIdx]\n",
    "            ytrain = y[trainIdx]\n",
    "                        \n",
    "            self.model.compute(Xtrain, ytrain)\n",
    "            \n",
    "            # TODO I have to add the true_negatives and false_negatives. Models also need to support it,\n",
    "            # so we should use a PredictionResult, instead of trying to do this by simply comparing\n",
    "            # the predicted and actual class.\n",
    "            #\n",
    "            # This is inteneded of the next version! Feel free to contribute.\n",
    "            for j in testIdx:\n",
    "                prediction = self.model.predict(X[j])[0]\n",
    "                if prediction == y[j]:\n",
    "                    true_positives = true_positives + 1\n",
    "                else:\n",
    "                    false_positives = false_positives + 1\n",
    "                    \n",
    "        self.add(ValidationResult(true_positives, true_negatives, false_positives, false_negatives, description))\n",
    "    \n",
    "    def __repr__(self):\n",
    "        return \"k-Fold Cross Validation (model=%s, k=%s)\" % (self.model, self.k)"
   ]
  },
  {
   "cell_type": "code",
   "execution_count": 30,
   "metadata": {
    "collapsed": true
   },
   "outputs": [],
   "source": [
    "def shuffle(X, y):\n",
    "    \"\"\" Shuffles two arrays by column (len(X) == len(y))\n",
    "        \n",
    "        Args:\n",
    "        \n",
    "            X [dim x num_data] input data\n",
    "            y [1 x num_data] classes\n",
    "        Returns:\n",
    "            Shuffled input arrays.\n",
    "    \"\"\"\n",
    "    idx = np.argsort([random.random() for i in range(len(y))])\n",
    "    y = np.asarray(y)\n",
    "    X = [X[i] for i in idx]\n",
    "    y = y[idx]\n",
    "    return (X, y)"
   ]
  },
  {
   "cell_type": "code",
   "execution_count": 31,
   "metadata": {
    "collapsed": true
   },
   "outputs": [],
   "source": [
    "def slice_2d(X,rows,cols):\n",
    "    \"\"\"\n",
    "    \n",
    "    Slices a 2D list to a flat array. If you know a better approach, please correct this.\n",
    "    \n",
    "    Args:\n",
    "    \n",
    "        X [num_rows x num_cols] multi-dimensional data\n",
    "        rows [list] rows to slice\n",
    "        cols [list] cols to slice\n",
    "    \n",
    "    Example:\n",
    "    \n",
    "        >>> X=[[1,2,3,4],[5,6,7,8]]\n",
    "        >>> # slice first two rows and first column\n",
    "        >>> Commons.slice(X, range(0,2), range(0,1)) # returns [1, 5]\n",
    "        >>> Commons.slice(X, range(0,1), range(0,4)) # returns [1,2,3,4]\n",
    "    \"\"\"\n",
    "    return [X[i][j] for j in cols for i in rows]"
   ]
  },
  {
   "cell_type": "code",
   "execution_count": 32,
   "metadata": {
    "collapsed": true
   },
   "outputs": [],
   "source": [
    "class ValidationResult(object):\n",
    "    \"\"\"Holds a validation result.\n",
    "    \"\"\"\n",
    "    def __init__(self, true_positives, true_negatives, false_positives, false_negatives, description):\n",
    "        self.true_positives = true_positives\n",
    "        self.true_negatives = true_negatives\n",
    "        self.false_positives = false_positives\n",
    "        self.false_negatives = false_negatives\n",
    "        self.description = description\n",
    "        \n",
    "    def __repr__(self):\n",
    "        res_precision = precision(self.true_positives, self.false_positives) * 100\n",
    "        res_accuracy = accuracy(self.true_positives, self.true_negatives, self.false_positives, self.false_negatives) * 100\n",
    "        return \"ValidationResult (Description=%s, Precision=%.2f%%, Accuracy=%.2f%%)\" % (self.description, res_precision, res_accuracy)"
   ]
  },
  {
   "cell_type": "code",
   "execution_count": 33,
   "metadata": {
    "collapsed": true
   },
   "outputs": [],
   "source": [
    "def precision(true_positives, false_positives):\n",
    "    \"\"\"Returns the precision, calculated as:\n",
    "        \n",
    "        true_positives/(true_positives+false_positives)\n",
    "        \n",
    "    \"\"\"\n",
    "    return accuracy(true_positives, 0, false_positives, 0)\n",
    "    \n",
    "def accuracy(true_positives, true_negatives, false_positives, false_negatives, description=None):\n",
    "    \"\"\"Returns the accuracy, calculated as:\n",
    "    \n",
    "        (true_positives+true_negatives)/(true_positives+false_positives+true_negatives+false_negatives)\n",
    "        \n",
    "    \"\"\"\n",
    "    true_positives = float(true_positives)\n",
    "    true_negatives = float(true_negatives)\n",
    "    false_positives = float(false_positives)\n",
    "    false_negatives = float(false_negatives)\n",
    "    if (true_positives + true_negatives + false_positives + false_negatives) < 1e-15:\n",
    "       return 0.0\n",
    "    return (true_positives+true_negatives)/(true_positives+false_positives+true_negatives+false_negatives)"
   ]
  },
  {
   "cell_type": "code",
   "execution_count": 98,
   "metadata": {
    "collapsed": false,
    "scrolled": true
   },
   "outputs": [],
   "source": [
    "classifier = NearestNeighbor(dist_metric=EuclideanDistance(), k=7)"
   ]
  },
  {
   "cell_type": "code",
   "execution_count": 99,
   "metadata": {
    "collapsed": false
   },
   "outputs": [],
   "source": [
    "my_model = PredictableModel(feature=feature, classifier=classifier)"
   ]
  },
  {
   "cell_type": "code",
   "execution_count": 100,
   "metadata": {
    "collapsed": false
   },
   "outputs": [],
   "source": [
    "my_model.compute(X, Y)"
   ]
  },
  {
   "cell_type": "code",
   "execution_count": 101,
   "metadata": {
    "collapsed": false,
    "scrolled": true
   },
   "outputs": [],
   "source": [
    "cv = KFoldCrossValidation(my_model, k=10)"
   ]
  },
  {
   "cell_type": "code",
   "execution_count": 102,
   "metadata": {
    "collapsed": false,
    "scrolled": true
   },
   "outputs": [],
   "source": [
    "cv.validate(X, Y)"
   ]
  },
  {
   "cell_type": "code",
   "execution_count": 97,
   "metadata": {
    "collapsed": false,
    "scrolled": false
   },
   "outputs": [
    {
     "name": "stdout",
     "output_type": "stream",
     "text": [
      "PredictableModel (feature=Fisherfaces (num_components=39), classifier=NearestNeighbor (k=6, dist_metric=EuclideanDistance))\n",
      "ValidationResult (Description=ExperimentName, Precision=96.50%, Accuracy=96.50%)\n"
     ]
    }
   ],
   "source": [
    "cv.print_results()"
   ]
  },
  {
   "cell_type": "code",
   "execution_count": null,
   "metadata": {
    "collapsed": true
   },
   "outputs": [],
   "source": []
  }
 ],
 "metadata": {
  "kernelspec": {
   "display_name": "Python 3",
   "language": "python",
   "name": "python3"
  },
  "language_info": {
   "codemirror_mode": {
    "name": "ipython",
    "version": 3
   },
   "file_extension": ".py",
   "mimetype": "text/x-python",
   "name": "python",
   "nbconvert_exporter": "python",
   "pygments_lexer": "ipython3",
   "version": "3.6.0"
  }
 },
 "nbformat": 4,
 "nbformat_minor": 0
}
